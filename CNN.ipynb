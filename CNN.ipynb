{
  "nbformat": 4,
  "nbformat_minor": 0,
  "metadata": {
    "colab": {
      "provenance": [],
      "authorship_tag": "ABX9TyPLQnKWxCjFaw7aViBKpE1w",
      "include_colab_link": true
    },
    "kernelspec": {
      "name": "python3",
      "display_name": "Python 3"
    },
    "language_info": {
      "name": "python"
    }
  },
  "cells": [
    {
      "cell_type": "markdown",
      "metadata": {
        "id": "view-in-github",
        "colab_type": "text"
      },
      "source": [
        "<a href=\"https://colab.research.google.com/github/kushal2022/Pytorch/blob/main/CNN.ipynb\" target=\"_parent\"><img src=\"https://colab.research.google.com/assets/colab-badge.svg\" alt=\"Open In Colab\"/></a>"
      ]
    },
    {
      "cell_type": "markdown",
      "source": [
        "CNN mostly used for images."
      ],
      "metadata": {
        "id": "LZI1nhqjkruy"
      }
    },
    {
      "cell_type": "code",
      "source": [
        "import torch\n",
        "import torch.nn as nn\n",
        "import torch.nn.functional as F\n",
        "import torchvision\n",
        "import torchvision.transforms as transforms\n",
        "import matplotlib.pyplot as plt\n",
        "import numpy as np\n",
        "\n",
        "\n",
        "# Device Configuration\n",
        "device = torch.device('cuda' if torch.cuda.is_available() else 'cpu')\n",
        "\n",
        "# Hyper Parameters\n",
        "num_epochs = 2\n",
        "batch_size = 4\n",
        "learning_rate = 0.001\n",
        "\n",
        "# dataset has PILImage images of range[0, 1]\n",
        "# we transfrom them to tensors of normalized range[-1, 1]\n",
        "\n",
        "transform = transforms.Compose(\n",
        "    [transforms.ToTensor(),\n",
        "     transforms.Normalize((0.5, 0.5, 0.5), (0.5, 0.5, 0.5))])\n",
        "train_dataset = torchvision.datasets.CIFAR10(root='./data', train=True, download=True, transform=transform)\n",
        "test_dataset = torchvision.datasets.CIFAR10(root='./data', train=False, download=True, transform=transform)\n",
        "train_loader = torch.utils.data.DataLoader(train_dataset, batch_size=batch_size, shuffle=True)\n",
        "test_loader = torch.utils.data.DataLoader(test_dataset, batch_size=batch_size, shuffle=False)\n",
        "\n",
        "classes = ('plane', 'car', 'bird', 'cat', 'deer', 'dog', 'frog', 'horse', 'ship', 'truck')\n"
      ],
      "metadata": {
        "id": "VM9AZITTrAZ2"
      },
      "execution_count": 24,
      "outputs": []
    },
    {
      "cell_type": "code",
      "source": [
        "examples = iter(train_loader)\n",
        "samples, labels = next(examples)\n",
        "print(samples.shape, labels.shape)\n",
        "\n",
        "for i in range(4):\n",
        "  plt.subplot(3, 3, i+1)\n",
        "  plt.imshow(samples[i][0], cmap='gray')\n",
        "plt.show()"
      ],
      "metadata": {
        "colab": {
          "base_uri": "https://localhost:8080/",
          "height": 321
        },
        "id": "j6Fs3m2jsKik",
        "outputId": "ea3e2a2a-9efc-40d8-8ba2-e38111737e30"
      },
      "execution_count": 25,
      "outputs": [
        {
          "output_type": "stream",
          "name": "stdout",
          "text": [
            "torch.Size([4, 3, 32, 32]) torch.Size([4])\n"
          ]
        },
        {
          "output_type": "display_data",
          "data": {
            "text/plain": [
              "<Figure size 640x480 with 4 Axes>"
            ],
            "image/png": "[encoded data removed]"
          },
          "metadata": {}
        }
      ]
    },
    {
      "cell_type": "code",
      "source": [
        "# Model class\n",
        "class ConvNet(nn.Module):\n",
        "  def __init__(self):\n",
        "    super(ConvNet, self).__init__()\n",
        "    self.conv1 = nn.Conv2d(3, 6, 5)\n",
        "    self.pool = nn.MaxPool2d(2, 2)\n",
        "    self.conv2 = nn.Conv2d(6, 16, 5)\n",
        "    #self.conv3 = nn.Conv2d(16, 16, 5)\n",
        "    self.fc1 = nn.Linear(16*5*5, 120)\n",
        "    self.fc2 = nn.Linear(120, 84)\n",
        "    self.fc3 = nn.Linear(84, 10)\n",
        "\n",
        "  def forward(self, x):\n",
        "    x = self.pool(F.relu(self.conv1(x)))\n",
        "    x = self.pool(F.relu(self.conv2(x)))\n",
        "    #x = self.pool(F.relu(self.conv3(x)))\n",
        "    x = x.view(-1, 16*5*5)\n",
        "    x = F.relu(self.fc1(x))\n",
        "    x = F.relu(self.fc2(x))\n",
        "    x = self.fc3(x)\n",
        "    return x"
      ],
      "metadata": {
        "id": "DHg1zH5Esjrs"
      },
      "execution_count": 32,
      "outputs": []
    },
    {
      "cell_type": "code",
      "source": [
        "model = ConvNet().to(device)\n",
        "\n",
        "# loss and optimizer\n",
        "criterion = nn.CrossEntropyLoss()\n",
        "optimizer = torch.optim.SGD(model.parameters(), lr=learning_rate)"
      ],
      "metadata": {
        "id": "5g5lwzAauABV"
      },
      "execution_count": 33,
      "outputs": []
    },
    {
      "cell_type": "code",
      "source": [
        "# training loop\n",
        "n_total_steps = len(train_loader)\n",
        "for epoch in range(num_epochs):\n",
        "  for i, (images, labels) in enumerate(train_loader):\n",
        "    # 100, 1, 28, 28\n",
        "    # 100, 784\n",
        "    images = images.to(device)\n",
        "    labels = labels.to(device)\n",
        "\n",
        "    # forward pass\n",
        "    outputs = model(images)\n",
        "    loss = criterion(outputs, labels)\n",
        "\n",
        "    # backward pass\n",
        "    optimizer.zero_grad()\n",
        "    loss.backward()\n",
        "    optimizer.step()\n",
        "\n",
        "    if(i % 2000 == 0):\n",
        "      print(f'epoch {epoch+1} / {num_epochs}, step {i+1}/{n_total_steps}, loss = {loss.item():.4f}')\n",
        "\n",
        "  print('Finished Training')\n",
        "\n",
        "  with torch.no_grad():\n",
        "    n_correct = 0\n",
        "    n_samples = 0\n",
        "    n_class_correct = [0 for i in range(10)]\n",
        "    n_class_samples = [0 for i in range(10)]\n",
        "    for images, labels in test_loader:\n",
        "      images = images.to(device)\n",
        "      labels = labels.to(device)\n",
        "      outputs = model(images)\n",
        "\n",
        "      _, predicted = torch.max(outputs, 1)\n",
        "      n_samples += labels.size(0)\n",
        "      n_correct += (predicted == labels).sum().item()\n",
        "\n",
        "      for i in range(batch_size):\n",
        "        label = labels[i]\n",
        "        pred = predicted[i]\n",
        "        if(label == pred):\n",
        "          n_class_correct[label] += 1\n",
        "        n_class_samples[label] += 1\n",
        "\n",
        "\n",
        "    acc = 100.0 * n_correct / n_samples\n",
        "    print(f'accuracy = {acc}')\n",
        "\n",
        "    for i in range(10):\n",
        "      acc = 100.0 * n_class_correct[i] / n_class_samples[i]\n",
        "      print(f'accuracy of {classes[i]}: {acc}%')"
      ],
      "metadata": {
        "colab": {
          "base_uri": "https://localhost:8080/"
        },
        "id": "24jzEO2FuGgA",
        "outputId": "115c9389-b3a4-40ab-a4bc-40401038d849"
      },
      "execution_count": 34,
      "outputs": [
        {
          "output_type": "stream",
          "name": "stdout",
          "text": [
            "epoch 1 / 2, step 1/12500, loss = 2.2909\n",
            "epoch 1 / 2, step 2001/12500, loss = 2.3458\n",
            "epoch 1 / 2, step 4001/12500, loss = 2.2775\n",
            "epoch 1 / 2, step 6001/12500, loss = 2.3125\n",
            "epoch 1 / 2, step 8001/12500, loss = 2.2746\n",
            "epoch 1 / 2, step 10001/12500, loss = 2.2257\n",
            "epoch 1 / 2, step 12001/12500, loss = 2.2718\n",
            "Finished Training\n",
            "accuracy = 22.13\n",
            "accuracy of plane: 53.1%\n",
            "accuracy of car: 26.1%\n",
            "accuracy of bird: 1.0%\n",
            "accuracy of cat: 7.6%\n",
            "accuracy of deer: 47.1%\n",
            "accuracy of dog: 1.3%\n",
            "accuracy of frog: 0.0%\n",
            "accuracy of horse: 10.3%\n",
            "accuracy of ship: 50.1%\n",
            "accuracy of truck: 24.7%\n",
            "epoch 2 / 2, step 1/12500, loss = 2.1241\n",
            "epoch 2 / 2, step 2001/12500, loss = 2.0460\n",
            "epoch 2 / 2, step 4001/12500, loss = 2.7242\n",
            "epoch 2 / 2, step 6001/12500, loss = 1.7991\n",
            "epoch 2 / 2, step 8001/12500, loss = 2.2847\n",
            "epoch 2 / 2, step 10001/12500, loss = 2.3369\n",
            "epoch 2 / 2, step 12001/12500, loss = 2.3776\n",
            "Finished Training\n",
            "accuracy = 34.12\n",
            "accuracy of plane: 46.1%\n",
            "accuracy of car: 27.2%\n",
            "accuracy of bird: 1.7%\n",
            "accuracy of cat: 2.2%\n",
            "accuracy of deer: 10.9%\n",
            "accuracy of dog: 36.9%\n",
            "accuracy of frog: 65.9%\n",
            "accuracy of horse: 67.3%\n",
            "accuracy of ship: 19.6%\n",
            "accuracy of truck: 63.4%\n"
          ]
        }
      ]
    },
    {
      "cell_type": "code",
      "source": [],
      "metadata": {
        "id": "sM7oXNjzx7uB"
      },
      "execution_count": null,
      "outputs": []
    }
  ]
}