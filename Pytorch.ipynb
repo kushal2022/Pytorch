{
  "nbformat": 4,
  "nbformat_minor": 0,
  "metadata": {
    "colab": {
      "provenance": [],
      "authorship_tag": "ABX9TyPfdP6Re2Sq+8V0xY3pN4pU",
      "include_colab_link": true
    },
    "kernelspec": {
      "name": "python3",
      "display_name": "Python 3"
    },
    "language_info": {
      "name": "python"
    }
  },
  "cells": [
    {
      "cell_type": "markdown",
      "metadata": {
        "id": "view-in-github",
        "colab_type": "text"
      },
      "source": [
        "<a href=\"https://colab.research.google.com/github/kushal2022/Pytorch/blob/main/Pytorch.ipynb\" target=\"_parent\"><img src=\"https://colab.research.google.com/assets/colab-badge.svg\" alt=\"Open In Colab\"/></a>"
      ]
    },
    {
      "cell_type": "markdown",
      "source": [
        "Basic PyTorch"
      ],
      "metadata": {
        "id": "1Pf1ejwhu_97"
      }
    },
    {
      "cell_type": "code",
      "source": [
        "import torch\n",
        "\n",
        "weights = torch.tensor([0.2126, 0.7152, 0.0722], requires_grad=True)\n",
        "\n",
        "for epoch in range(10):\n",
        "  model_output = (weights * 3).sum()\n",
        "\n",
        "  model_output.backward()\n",
        "\n",
        "  print(weights.grad)\n",
        "\n",
        "  weights.grad.zero_()"
      ],
      "metadata": {
        "colab": {
          "base_uri": "https://localhost:8080/"
        },
        "id": "oh2XfwatvDFK",
        "outputId": "2b2bd291-8496-41f3-b2d4-2ff416676de1"
      },
      "execution_count": 2,
      "outputs": [
        {
          "output_type": "stream",
          "name": "stdout",
          "text": [
            "tensor([3., 3., 3.])\n",
            "tensor([3., 3., 3.])\n",
            "tensor([3., 3., 3.])\n",
            "tensor([3., 3., 3.])\n",
            "tensor([3., 3., 3.])\n",
            "tensor([3., 3., 3.])\n",
            "tensor([3., 3., 3.])\n",
            "tensor([3., 3., 3.])\n",
            "tensor([3., 3., 3.])\n",
            "tensor([3., 3., 3.])\n"
          ]
        }
      ]
    },
    {
      "source": [
        "weights = torch.tensor([0.2126, 0.7152, 0.0722], requires_grad=True)\n",
        "\n",
        "# Wrap the weights tensor in a list to make it an iterable\n",
        "optimizer = torch.optim.SGD([weights], lr=0.01)\n",
        "\n",
        "for epoch in range(10):\n",
        "  model_output = (weights * 3).sum()\n",
        "\n",
        "  model_output.backward()\n",
        "\n",
        "  print(weights.grad)\n",
        "\n",
        "  optimizer.step()\n",
        "\n",
        "  optimizer.zero_grad()"
      ],
      "cell_type": "code",
      "metadata": {
        "colab": {
          "base_uri": "https://localhost:8080/"
        },
        "id": "LayKPUUowYCf",
        "outputId": "f5aa45cf-3741-405c-df7d-d6dacdc7ee9b"
      },
      "execution_count": 4,
      "outputs": [
        {
          "output_type": "stream",
          "name": "stdout",
          "text": [
            "tensor([3., 3., 3.])\n",
            "tensor([3., 3., 3.])\n",
            "tensor([3., 3., 3.])\n",
            "tensor([3., 3., 3.])\n",
            "tensor([3., 3., 3.])\n",
            "tensor([3., 3., 3.])\n",
            "tensor([3., 3., 3.])\n",
            "tensor([3., 3., 3.])\n",
            "tensor([3., 3., 3.])\n",
            "tensor([3., 3., 3.])\n"
          ]
        }
      ]
    },
    {
      "cell_type": "markdown",
      "source": [
        "**Back propagation example with pytorch**"
      ],
      "metadata": {
        "id": "-ZPaZbKD0mri"
      }
    },
    {
      "cell_type": "code",
      "source": [
        "x = torch.tensor(1.0)\n",
        "y = torch.tensor(2.0)\n",
        "\n",
        "w = torch.tensor(1.0, requires_grad=True)\n",
        "\n",
        "# forward pass and compute the loss\n",
        "y_hat = w * x\n",
        "loss = (y_hat - y)**2\n",
        "\n",
        "print(loss)\n",
        "\n",
        "# backward pass\n",
        "loss.backward()\n",
        "print(w.grad)\n",
        "\n",
        "### update weights\n",
        "### next forward and backward"
      ],
      "metadata": {
        "colab": {
          "base_uri": "https://localhost:8080/"
        },
        "id": "QGBg1bCD0zKC",
        "outputId": "d45e115b-38db-4ef2-adb3-ea1ded31c3af"
      },
      "execution_count": 5,
      "outputs": [
        {
          "output_type": "stream",
          "name": "stdout",
          "text": [
            "tensor(1., grad_fn=<PowBackward0>)\n",
            "tensor(-2.)\n"
          ]
        }
      ]
    },
    {
      "cell_type": "code",
      "source": [],
      "metadata": {
        "id": "MAlbGU9t1CjI"
      },
      "execution_count": null,
      "outputs": []
    }
  ]
}