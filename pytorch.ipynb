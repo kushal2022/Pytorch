{
  "nbformat": 4,
  "nbformat_minor": 0,
  "metadata": {
    "colab": {
      "provenance": [],
      "authorship_tag": "ABX9TyNIjpu9fYUeSoWgLY4s59MM",
      "include_colab_link": true
    },
    "kernelspec": {
      "name": "python3",
      "display_name": "Python 3"
    },
    "language_info": {
      "name": "python"
    }
  },
  "cells": [
    {
      "cell_type": "markdown",
      "metadata": {
        "id": "view-in-github",
        "colab_type": "text"
      },
      "source": [
        "<a href=\"https://colab.research.google.com/github/kushal2022/Pytorch/blob/main/pytorch.ipynb\" target=\"_parent\"><img src=\"https://colab.research.google.com/assets/colab-badge.svg\" alt=\"Open In Colab\"/></a>"
      ]
    },
    {
      "cell_type": "markdown",
      "source": [
        "Basic PyTorch"
      ],
      "metadata": {
        "id": "1Pf1ejwhu_97"
      }
    },
    {
      "cell_type": "code",
      "source": [
        "import torch\n",
        "\n",
        "weights = torch.tensor([0.2126, 0.7152, 0.0722], requires_grad=True)\n",
        "\n",
        "for epoch in range(10):\n",
        "  model_output = (weights * 3).sum()\n",
        "\n",
        "  model_output.backward()\n",
        "\n",
        "  print(weights.grad)\n",
        "\n",
        "  weights.grad.zero_()"
      ],
      "metadata": {
        "colab": {
          "base_uri": "https://localhost:8080/"
        },
        "id": "oh2XfwatvDFK",
        "outputId": "2b2bd291-8496-41f3-b2d4-2ff416676de1"
      },
      "execution_count": null,
      "outputs": [
        {
          "output_type": "stream",
          "name": "stdout",
          "text": [
            "tensor([3., 3., 3.])\n",
            "tensor([3., 3., 3.])\n",
            "tensor([3., 3., 3.])\n",
            "tensor([3., 3., 3.])\n",
            "tensor([3., 3., 3.])\n",
            "tensor([3., 3., 3.])\n",
            "tensor([3., 3., 3.])\n",
            "tensor([3., 3., 3.])\n",
            "tensor([3., 3., 3.])\n",
            "tensor([3., 3., 3.])\n"
          ]
        }
      ]
    },
    {
      "source": [
        "weights = torch.tensor([0.2126, 0.7152, 0.0722], requires_grad=True)\n",
        "\n",
        "# Wrap the weights tensor in a list to make it an iterable\n",
        "optimizer = torch.optim.SGD([weights], lr=0.01)\n",
        "\n",
        "for epoch in range(10):\n",
        "  model_output = (weights * 3).sum()\n",
        "\n",
        "  model_output.backward()\n",
        "\n",
        "  print(weights.grad)\n",
        "\n",
        "  optimizer.step()\n",
        "\n",
        "  optimizer.zero_grad()"
      ],
      "cell_type": "code",
      "metadata": {
        "colab": {
          "base_uri": "https://localhost:8080/"
        },
        "id": "LayKPUUowYCf",
        "outputId": "f5aa45cf-3741-405c-df7d-d6dacdc7ee9b"
      },
      "execution_count": null,
      "outputs": [
        {
          "output_type": "stream",
          "name": "stdout",
          "text": [
            "tensor([3., 3., 3.])\n",
            "tensor([3., 3., 3.])\n",
            "tensor([3., 3., 3.])\n",
            "tensor([3., 3., 3.])\n",
            "tensor([3., 3., 3.])\n",
            "tensor([3., 3., 3.])\n",
            "tensor([3., 3., 3.])\n",
            "tensor([3., 3., 3.])\n",
            "tensor([3., 3., 3.])\n",
            "tensor([3., 3., 3.])\n"
          ]
        }
      ]
    },
    {
      "cell_type": "markdown",
      "source": [
        "**Back propagation example with pytorch**"
      ],
      "metadata": {
        "id": "-ZPaZbKD0mri"
      }
    },
    {
      "cell_type": "code",
      "source": [
        "x = torch.tensor(1.0)\n",
        "y = torch.tensor(2.0)\n",
        "\n",
        "w = torch.tensor(1.0, requires_grad=True)\n",
        "\n",
        "# forward pass and compute the loss\n",
        "y_hat = w * x\n",
        "loss = (y_hat - y)**2\n",
        "\n",
        "print(loss)\n",
        "\n",
        "# backward pass\n",
        "loss.backward()\n",
        "print(w.grad)\n",
        "\n",
        "### update weights\n",
        "### next forward and backward"
      ],
      "metadata": {
        "colab": {
          "base_uri": "https://localhost:8080/"
        },
        "id": "QGBg1bCD0zKC",
        "outputId": "d45e115b-38db-4ef2-adb3-ea1ded31c3af"
      },
      "execution_count": null,
      "outputs": [
        {
          "output_type": "stream",
          "name": "stdout",
          "text": [
            "tensor(1., grad_fn=<PowBackward0>)\n",
            "tensor(-2.)\n"
          ]
        }
      ]
    },
    {
      "cell_type": "code",
      "source": [
        "from sklearn.preprocessing import OneHotEncoder\n",
        "\n",
        "data = [['Red'], ['Green'], ['Blue'], ['Red'], ['Yellow'], ['Monkey'], ['Monkey']]\n",
        "\n",
        "#creating and applying OneHotEncoder\n",
        "encoder = OneHotEncoder()\n",
        "encoder.fit(data)\n",
        "encoded_data = encoder.transform(data).toarray()\n",
        "\n",
        "print(encoded_data)"
      ],
      "metadata": {
        "id": "MAlbGU9t1CjI",
        "outputId": "15ad629d-aeba-4da8-c1f5-5efb36d058a8",
        "colab": {
          "base_uri": "https://localhost:8080/"
        }
      },
      "execution_count": 3,
      "outputs": [
        {
          "output_type": "stream",
          "name": "stdout",
          "text": [
            "[[0. 0. 0. 1. 0.]\n",
            " [0. 1. 0. 0. 0.]\n",
            " [1. 0. 0. 0. 0.]\n",
            " [0. 0. 0. 1. 0.]\n",
            " [0. 0. 0. 0. 1.]\n",
            " [0. 0. 1. 0. 0.]\n",
            " [0. 0. 1. 0. 0.]]\n"
          ]
        }
      ]
    },
    {
      "cell_type": "code",
      "source": [
        "import torch\n",
        "import torch.nn as nn\n",
        "import numpy as np\n",
        "\n",
        "def cross_entropy(actual_class, predicted_probabilities):\n",
        "  loss = -np.sum(actual_class * np.log(predicted_probabilities))\n",
        "  return loss\n",
        "\n",
        "Y = np.array([1, 0, 0])\n",
        "\n",
        "#y_pred has probabilities\n",
        "Y_pred_good = np.array([0.7, 0.2, 0.1])\n",
        "Y_pred_bad = np.array([0.1, 0.3, 0.6])\n",
        "l1 = cross_entropy(Y, Y_pred_good)\n",
        "l2 = cross_entropy(Y, Y_pred_bad)\n",
        "print(f'Loss1 numpy: {l1:.4f}')\n",
        "print(f'Loss2 numpy: {l2:.4f}')"
      ],
      "metadata": {
        "id": "y6Y-mGHFuLaa",
        "outputId": "24891c27-207e-4e15-c58e-c4582849ca0e",
        "colab": {
          "base_uri": "https://localhost:8080/"
        }
      },
      "execution_count": 8,
      "outputs": [
        {
          "output_type": "stream",
          "name": "stdout",
          "text": [
            "Loss1 numpy: 0.3567\n",
            "Loss2 numpy: 2.3026\n"
          ]
        }
      ]
    },
    {
      "cell_type": "code",
      "source": [],
      "metadata": {
        "id": "Qd3nRA4U1uf0"
      },
      "execution_count": 5,
      "outputs": []
    }
  ]
}